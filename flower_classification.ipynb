{
  "cells": [
    {
      "cell_type": "markdown",
      "metadata": {
        "id": "view-in-github",
        "colab_type": "text"
      },
      "source": [
        "<a href=\"https://colab.research.google.com/github/MOHAMEDANASM10/IPL-win-predictor-using-aiml/blob/main/flower_classification.ipynb\" target=\"_parent\"><img src=\"https://colab.research.google.com/assets/colab-badge.svg\" alt=\"Open In Colab\"/></a>"
      ]
    },
    {
      "cell_type": "markdown",
      "metadata": {
        "id": "EWuBA9pRfxCI"
      },
      "source": [
        "📁 1. Set Up Environment"
      ]
    },
    {
      "cell_type": "code",
      "execution_count": null,
      "metadata": {
        "id": "D3u9V6phfnzv"
      },
      "outputs": [],
      "source": [
        "import pandas as pd\n",
        "import numpy as np\n",
        "import matplotlib.pyplot as plt\n",
        "import seaborn as sns\n",
        "from sklearn.datasets import load_iris\n",
        "from sklearn.model_selection import train_test_split\n",
        "from sklearn.neighbors import KNeighborsClassifier\n",
        "from sklearn.metrics import accuracy_score, confusion_matrix, classification_report\n"
      ]
    },
    {
      "cell_type": "markdown",
      "metadata": {
        "id": "I8OdiAOjf2o8"
      },
      "source": [
        "📊 2. Load and Explore the Dataset"
      ]
    },
    {
      "cell_type": "code",
      "execution_count": null,
      "metadata": {
        "id": "Q2Sen4nmfuMG"
      },
      "outputs": [],
      "source": [
        "# Load the Iris dataset\n",
        "data = load_iris()\n",
        "df = pd.DataFrame(data.data, columns=data.feature_names)\n",
        "df['species'] = data.target\n",
        "df['species'] = df['species'].map({0: 'setosa', 1: 'versicolor', 2: 'virginica'})\n",
        "df.head()\n"
      ]
    },
    {
      "cell_type": "markdown",
      "metadata": {
        "id": "LOVTYd76f7U5"
      },
      "source": [
        "🔥 Enhancements:\n",
        "Add species distribution count plot:"
      ]
    },
    {
      "cell_type": "code",
      "execution_count": null,
      "metadata": {
        "id": "dpEx-0pqf6vO"
      },
      "outputs": [],
      "source": [
        "sns.countplot(x='species', data=df)\n",
        "plt.title(\"Count of each Iris Species\")\n",
        "plt.show()\n"
      ]
    },
    {
      "cell_type": "markdown",
      "metadata": {
        "id": "Mybj572OgAHY"
      },
      "source": [
        "Pairplot to visualize feature separation:"
      ]
    },
    {
      "cell_type": "code",
      "execution_count": null,
      "metadata": {
        "id": "Fp6TaIJTgCkm"
      },
      "outputs": [],
      "source": [
        "sns.pairplot(df, hue=\"species\")\n"
      ]
    },
    {
      "cell_type": "markdown",
      "metadata": {
        "id": "B2S2z9n3gEwj"
      },
      "source": [
        "🧹 3. Data Preprocessing"
      ]
    },
    {
      "cell_type": "code",
      "execution_count": null,
      "metadata": {
        "id": "CwpOZHfwgGtC"
      },
      "outputs": [],
      "source": [
        "X = df.drop('species', axis=1)\n",
        "y = df['species']\n",
        "\n",
        "X_train, X_test, y_train, y_test = train_test_split(X, y, test_size=0.2, random_state=42)\n"
      ]
    },
    {
      "cell_type": "markdown",
      "metadata": {
        "id": "bLxPqR44gIRi"
      },
      "source": [
        "🤖 4. Model Training"
      ]
    },
    {
      "cell_type": "code",
      "execution_count": null,
      "metadata": {
        "id": "esAnFCfcgKsv"
      },
      "outputs": [],
      "source": [
        "knn = KNeighborsClassifier(n_neighbors=3)\n",
        "knn.fit(X_train, y_train)\n"
      ]
    },
    {
      "cell_type": "markdown",
      "metadata": {
        "id": "K0uuuDlngNEM"
      },
      "source": [
        "📈 5. Model Evaluation"
      ]
    },
    {
      "cell_type": "code",
      "execution_count": null,
      "metadata": {
        "id": "julgVyuhgM0Y"
      },
      "outputs": [],
      "source": [
        "y_pred = knn.predict(X_test)\n",
        "\n",
        "print(\"Accuracy:\", accuracy_score(y_test, y_pred))\n",
        "print(\"\\nClassification Report:\\n\", classification_report(y_test, y_pred))\n"
      ]
    },
    {
      "cell_type": "markdown",
      "metadata": {
        "id": "TGNhF4oTh2RN"
      },
      "source": [
        "Interactive Input Box in Google Colab (instead of console input):\n",
        "Use:"
      ]
    },
    {
      "cell_type": "code",
      "execution_count": null,
      "metadata": {
        "id": "mcUbm-9bh6Fy"
      },
      "outputs": [],
      "source": [
        "from IPython.display import display\n",
        "import ipywidgets as widgets\n",
        "\n",
        "def classify_flower(sepal_length, sepal_width, petal_length, petal_width):\n",
        "    user_input = pd.DataFrame([[sepal_length, sepal_width, petal_length, petal_width]], columns=X.columns)\n",
        "    prediction = knn.predict(user_input)[0]\n",
        "    print(f\"🌼 Predicted Iris Species: {prediction.upper()}\")\n",
        "\n",
        "widgets.interact(classify_flower,\n",
        "                 sepal_length=widgets.FloatSlider(min=4.0, max=8.0, step=0.1, value=5.1),\n",
        "                 sepal_width=widgets.FloatSlider(min=2.0, max=4.5, step=0.1, value=3.5),\n",
        "                 petal_length=widgets.FloatSlider(min=1.0, max=7.0, step=0.1, value=1.4),\n",
        "                 petal_width=widgets.FloatSlider(min=0.1, max=2.5, step=0.1, value=0.2))\n"
      ]
    },
    {
      "cell_type": "markdown",
      "metadata": {
        "id": "w8EEoXLJgQ71"
      },
      "source": [
        "🔥 Enhancement: Confusion Matrix Visualization"
      ]
    },
    {
      "cell_type": "code",
      "execution_count": null,
      "metadata": {
        "id": "UmgNGUh7gRpz"
      },
      "outputs": [],
      "source": [
        "cm = confusion_matrix(y_test, y_pred)\n",
        "sns.heatmap(cm, annot=True, fmt='d', xticklabels=data.target_names, yticklabels=data.target_names)\n",
        "plt.xlabel(\"Predicted\")\n",
        "plt.ylabel(\"Actual\")\n",
        "plt.title(\"Confusion Matrix\")\n",
        "plt.show()\n"
      ]
    },
    {
      "cell_type": "markdown",
      "metadata": {
        "id": "yNLvtEragWZ7"
      },
      "source": [
        "💡 7. Extra Features (to stand out)"
      ]
    },
    {
      "cell_type": "markdown",
      "metadata": {
        "id": "6jU4bieCgdH_"
      },
      "source": [
        "✅ Feature Importance using Decision Tree"
      ]
    },
    {
      "cell_type": "code",
      "execution_count": null,
      "metadata": {
        "id": "N6ZqCQDNgaQF"
      },
      "outputs": [],
      "source": [
        "from sklearn.tree import DecisionTreeClassifier\n",
        "\n",
        "dtree = DecisionTreeClassifier()\n",
        "dtree.fit(X_train, y_train)\n",
        "\n",
        "importances = dtree.feature_importances_\n",
        "feat_importance = pd.Series(importances, index=X.columns)\n",
        "feat_importance.sort_values().plot(kind='barh')\n",
        "plt.title(\"Feature Importance (Decision Tree)\")\n",
        "plt.show()\n"
      ]
    },
    {
      "cell_type": "markdown",
      "metadata": {
        "id": "goFt7Twfhn0S"
      },
      "source": [
        "for User Testing"
      ]
    },
    {
      "cell_type": "code",
      "execution_count": null,
      "metadata": {
        "colab": {
          "background_save": true,
          "base_uri": "https://localhost:8080/"
        },
        "id": "v0h0dp9yhuW2",
        "outputId": "dd3dfec1-5c50-4a76-e81d-55f30dad0c3e"
      },
      "outputs": [
        {
          "name": "stdout",
          "output_type": "stream",
          "text": [
            "\n",
            "🌸 Flower Species Predictor 🌸\n"
          ]
        }
      ],
      "source": [
        "# 🔍 User Prediction Section\n",
        "print(\"\\n🌸 Flower Species Predictor 🌸\")\n",
        "try:\n",
        "    # Get user input\n",
        "    sepal_length = float(input(\"Enter Sepal Length (cm): \"))\n",
        "    sepal_width = float(input(\"Enter Sepal Width (cm): \"))\n",
        "    petal_length = float(input(\"Enter Petal Length (cm): \"))\n",
        "    petal_width = float(input(\"Enter Petal Width (cm): \"))\n",
        "\n",
        "    # Create a DataFrame for the input\n",
        "    user_input = pd.DataFrame([[sepal_length, sepal_width, petal_length, petal_width]],\n",
        "                              columns=X.columns)\n",
        "\n",
        "    # Predict the species\n",
        "    prediction = knn.predict(user_input)[0]\n",
        "\n",
        "    print(f\"\\n🌼 Based on your input, the predicted Iris species is: **{prediction.upper()}**\")\n",
        "except Exception as e:\n",
        "    print(\"⚠️ Invalid input! Please enter numeric values only.\")\n"
      ]
    }
  ],
  "metadata": {
    "colab": {
      "provenance": [],
      "authorship_tag": "ABX9TyPcfxmRYeGaX+FyuH3fQ12b",
      "include_colab_link": true
    },
    "kernelspec": {
      "display_name": "Python 3",
      "name": "python3"
    },
    "language_info": {
      "name": "python"
    }
  },
  "nbformat": 4,
  "nbformat_minor": 0
}